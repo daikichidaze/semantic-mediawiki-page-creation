{
 "cells": [
  {
   "cell_type": "code",
   "execution_count": 171,
   "metadata": {},
   "outputs": [],
   "source": [
    "import spacy\n",
    "import ginza\n",
    "import re\n",
    "import pandas as pd\n",
    "from spacy import displacy\n",
    "from numpy import random as rd\n",
    "nlp = spacy.load('ja_ginza')"
   ]
  },
  {
   "cell_type": "code",
   "execution_count": 872,
   "metadata": {},
   "outputs": [
    {
     "output_type": "execute_result",
     "data": {
      "text/plain": [
       "       channel_id channel_name    reply_num    user_id  \\\n",
       "count        1221         1221  1221.000000       1221   \n",
       "unique          1            3          NaN        245   \n",
       "top     CJP6483K2    01-1-自己紹介          NaN  UJRAL005U   \n",
       "freq         1221         1102          NaN        391   \n",
       "first         NaN          NaN          NaN        NaN   \n",
       "last          NaN          NaN          NaN        NaN   \n",
       "mean          NaN          NaN     3.745291        NaN   \n",
       "std           NaN          NaN     4.745471        NaN   \n",
       "min           NaN          NaN     0.000000        NaN   \n",
       "25%           NaN          NaN     1.000000        NaN   \n",
       "50%           NaN          NaN     2.000000        NaN   \n",
       "75%           NaN          NaN     5.000000        NaN   \n",
       "max           NaN          NaN    30.000000        NaN   \n",
       "\n",
       "                        user_name reply_user_is_in_current  \\\n",
       "count                        1221                     1221   \n",
       "unique                        262                        2   \n",
       "top     村上智之　ｷﾞﾙﾄﾞ代表　筋ﾄﾚで学ぶﾃﾞｰﾀ分析                     True   \n",
       "freq                          218                      922   \n",
       "first                         NaN                      NaN   \n",
       "last                          NaN                      NaN   \n",
       "mean                          NaN                      NaN   \n",
       "std                           NaN                      NaN   \n",
       "min                           NaN                      NaN   \n",
       "25%                           NaN                      NaN   \n",
       "50%                           NaN                      NaN   \n",
       "75%                           NaN                      NaN   \n",
       "max                           NaN                      NaN   \n",
       "\n",
       "                                     talk_id    talk_text  \\\n",
       "count                                   1221         1221   \n",
       "unique                                  1221         1217   \n",
       "top     2978b57e-ddd8-4fb5-8ccd-9ef478061326  ありがとうございます！   \n",
       "freq                                       1            3   \n",
       "first                                    NaN          NaN   \n",
       "last                                     NaN          NaN   \n",
       "mean                                     NaN          NaN   \n",
       "std                                      NaN          NaN   \n",
       "min                                      NaN          NaN   \n",
       "25%                                      NaN          NaN   \n",
       "50%                                      NaN          NaN   \n",
       "75%                                      NaN          NaN   \n",
       "max                                      NaN          NaN   \n",
       "\n",
       "                                 talk_ts                         thread_ts  \\\n",
       "count                               1221                              1221   \n",
       "unique                              1221                               242   \n",
       "top     2020-07-13 09:59:26.103000+00:00  2019-07-25 15:16:54.001600+00:00   \n",
       "freq                                   1                                31   \n",
       "first   2019-06-22 15:07:58.000300+00:00  2019-06-22 15:07:58.000300+00:00   \n",
       "last    2020-12-28 13:33:54.375800+00:00  2020-12-28 11:13:50.375200+00:00   \n",
       "mean                                 NaN                               NaN   \n",
       "std                                  NaN                               NaN   \n",
       "min                                  NaN                               NaN   \n",
       "25%                                  NaN                               NaN   \n",
       "50%                                  NaN                               NaN   \n",
       "75%                                  NaN                               NaN   \n",
       "max                                  NaN                               NaN   \n",
       "\n",
       "                target_date  \n",
       "count                  1221  \n",
       "unique                  259  \n",
       "top     2019-07-29 00:00:00  \n",
       "freq                     31  \n",
       "first   2019-06-24 00:00:00  \n",
       "last    2020-12-29 00:00:00  \n",
       "mean                    NaN  \n",
       "std                     NaN  \n",
       "min                     NaN  \n",
       "25%                     NaN  \n",
       "50%                     NaN  \n",
       "75%                     NaN  \n",
       "max                     NaN  "
      ],
      "text/html": "<div>\n<style scoped>\n    .dataframe tbody tr th:only-of-type {\n        vertical-align: middle;\n    }\n\n    .dataframe tbody tr th {\n        vertical-align: top;\n    }\n\n    .dataframe thead th {\n        text-align: right;\n    }\n</style>\n<table border=\"1\" class=\"dataframe\">\n  <thead>\n    <tr style=\"text-align: right;\">\n      <th></th>\n      <th>channel_id</th>\n      <th>channel_name</th>\n      <th>reply_num</th>\n      <th>user_id</th>\n      <th>user_name</th>\n      <th>reply_user_is_in_current</th>\n      <th>talk_id</th>\n      <th>talk_text</th>\n      <th>talk_ts</th>\n      <th>thread_ts</th>\n      <th>target_date</th>\n    </tr>\n  </thead>\n  <tbody>\n    <tr>\n      <th>count</th>\n      <td>1221</td>\n      <td>1221</td>\n      <td>1221.000000</td>\n      <td>1221</td>\n      <td>1221</td>\n      <td>1221</td>\n      <td>1221</td>\n      <td>1221</td>\n      <td>1221</td>\n      <td>1221</td>\n      <td>1221</td>\n    </tr>\n    <tr>\n      <th>unique</th>\n      <td>1</td>\n      <td>3</td>\n      <td>NaN</td>\n      <td>245</td>\n      <td>262</td>\n      <td>2</td>\n      <td>1221</td>\n      <td>1217</td>\n      <td>1221</td>\n      <td>242</td>\n      <td>259</td>\n    </tr>\n    <tr>\n      <th>top</th>\n      <td>CJP6483K2</td>\n      <td>01-1-自己紹介</td>\n      <td>NaN</td>\n      <td>UJRAL005U</td>\n      <td>村上智之　ｷﾞﾙﾄﾞ代表　筋ﾄﾚで学ぶﾃﾞｰﾀ分析</td>\n      <td>True</td>\n      <td>2978b57e-ddd8-4fb5-8ccd-9ef478061326</td>\n      <td>ありがとうございます！</td>\n      <td>2020-07-13 09:59:26.103000+00:00</td>\n      <td>2019-07-25 15:16:54.001600+00:00</td>\n      <td>2019-07-29 00:00:00</td>\n    </tr>\n    <tr>\n      <th>freq</th>\n      <td>1221</td>\n      <td>1102</td>\n      <td>NaN</td>\n      <td>391</td>\n      <td>218</td>\n      <td>922</td>\n      <td>1</td>\n      <td>3</td>\n      <td>1</td>\n      <td>31</td>\n      <td>31</td>\n    </tr>\n    <tr>\n      <th>first</th>\n      <td>NaN</td>\n      <td>NaN</td>\n      <td>NaN</td>\n      <td>NaN</td>\n      <td>NaN</td>\n      <td>NaN</td>\n      <td>NaN</td>\n      <td>NaN</td>\n      <td>2019-06-22 15:07:58.000300+00:00</td>\n      <td>2019-06-22 15:07:58.000300+00:00</td>\n      <td>2019-06-24 00:00:00</td>\n    </tr>\n    <tr>\n      <th>last</th>\n      <td>NaN</td>\n      <td>NaN</td>\n      <td>NaN</td>\n      <td>NaN</td>\n      <td>NaN</td>\n      <td>NaN</td>\n      <td>NaN</td>\n      <td>NaN</td>\n      <td>2020-12-28 13:33:54.375800+00:00</td>\n      <td>2020-12-28 11:13:50.375200+00:00</td>\n      <td>2020-12-29 00:00:00</td>\n    </tr>\n    <tr>\n      <th>mean</th>\n      <td>NaN</td>\n      <td>NaN</td>\n      <td>3.745291</td>\n      <td>NaN</td>\n      <td>NaN</td>\n      <td>NaN</td>\n      <td>NaN</td>\n      <td>NaN</td>\n      <td>NaN</td>\n      <td>NaN</td>\n      <td>NaN</td>\n    </tr>\n    <tr>\n      <th>std</th>\n      <td>NaN</td>\n      <td>NaN</td>\n      <td>4.745471</td>\n      <td>NaN</td>\n      <td>NaN</td>\n      <td>NaN</td>\n      <td>NaN</td>\n      <td>NaN</td>\n      <td>NaN</td>\n      <td>NaN</td>\n      <td>NaN</td>\n    </tr>\n    <tr>\n      <th>min</th>\n      <td>NaN</td>\n      <td>NaN</td>\n      <td>0.000000</td>\n      <td>NaN</td>\n      <td>NaN</td>\n      <td>NaN</td>\n      <td>NaN</td>\n      <td>NaN</td>\n      <td>NaN</td>\n      <td>NaN</td>\n      <td>NaN</td>\n    </tr>\n    <tr>\n      <th>25%</th>\n      <td>NaN</td>\n      <td>NaN</td>\n      <td>1.000000</td>\n      <td>NaN</td>\n      <td>NaN</td>\n      <td>NaN</td>\n      <td>NaN</td>\n      <td>NaN</td>\n      <td>NaN</td>\n      <td>NaN</td>\n      <td>NaN</td>\n    </tr>\n    <tr>\n      <th>50%</th>\n      <td>NaN</td>\n      <td>NaN</td>\n      <td>2.000000</td>\n      <td>NaN</td>\n      <td>NaN</td>\n      <td>NaN</td>\n      <td>NaN</td>\n      <td>NaN</td>\n      <td>NaN</td>\n      <td>NaN</td>\n      <td>NaN</td>\n    </tr>\n    <tr>\n      <th>75%</th>\n      <td>NaN</td>\n      <td>NaN</td>\n      <td>5.000000</td>\n      <td>NaN</td>\n      <td>NaN</td>\n      <td>NaN</td>\n      <td>NaN</td>\n      <td>NaN</td>\n      <td>NaN</td>\n      <td>NaN</td>\n      <td>NaN</td>\n    </tr>\n    <tr>\n      <th>max</th>\n      <td>NaN</td>\n      <td>NaN</td>\n      <td>30.000000</td>\n      <td>NaN</td>\n      <td>NaN</td>\n      <td>NaN</td>\n      <td>NaN</td>\n      <td>NaN</td>\n      <td>NaN</td>\n      <td>NaN</td>\n      <td>NaN</td>\n    </tr>\n  </tbody>\n</table>\n</div>"
     },
     "metadata": {},
     "execution_count": 872
    }
   ],
   "source": [
    "df = pd.read_csv('../csv/intro_talk_data.csv', parse_dates='talk_ts thread_ts target_date'.split())\n",
    "df.describe(include='all')"
   ]
  },
  {
   "cell_type": "code",
   "execution_count": 873,
   "metadata": {},
   "outputs": [],
   "source": [
    "unique_thread_ts_array = df.thread_ts.unique()"
   ]
  },
  {
   "cell_type": "code",
   "execution_count": 874,
   "metadata": {},
   "outputs": [],
   "source": [
    "# txt = '\\n'.join(df.talk_text[0:10].tolist())\n",
    "rd_idx = rd.randint(len(df.talk_text))\n",
    "txt = df.talk_text.tolist()[rd_idx]\n"
   ]
  },
  {
   "cell_type": "code",
   "execution_count": 875,
   "metadata": {},
   "outputs": [],
   "source": [
    "retxt = re.sub(r'<@.+>|\\n|', '', txt)\n",
    "doc = nlp(retxt)\n",
    "ginza.set_split_mode(nlp, \"C\")"
   ]
  },
  {
   "cell_type": "code",
   "execution_count": 75,
   "metadata": {},
   "outputs": [],
   "source": [
    "exc_pos_list = 'ADP VERB AUX SCONJ PART PUNCT SPACE PRON ADV SYM ADJ DET NUM INTJ'.split()"
   ]
  },
  {
   "cell_type": "code",
   "execution_count": 79,
   "metadata": {},
   "outputs": [],
   "source": [
    "result_list = []\n",
    "for sent in doc.sents:\n",
    "    result_list = result_list + [[str(token.i), token.text, token.lemma_, token.pos_, token.tag_] for token in sent]\n",
    "df_result = pd.DataFrame(result_list, columns = 'token_no text lemma pos tag'.split())"
   ]
  },
  {
   "cell_type": "code",
   "execution_count": 83,
   "metadata": {},
   "outputs": [
    {
     "output_type": "execute_result",
     "data": {
      "text/plain": [
       "'それは大丈夫ですね。納期がほぼない仕事なので。ただ現状でおそらく、GWあけまでは面接など難しいかもです。出社停止までいっているので'"
      ]
     },
     "metadata": {},
     "execution_count": 83
    }
   ],
   "source": [
    "retxt"
   ]
  },
  {
   "cell_type": "code",
   "execution_count": 87,
   "metadata": {},
   "outputs": [
    {
     "output_type": "execute_result",
     "data": {
      "text/plain": [
       "   token_no text lemma   pos           tag\n",
       "6         6   納期    納期  NOUN    名詞-普通名詞-一般\n",
       "10       10   仕事    仕事  NOUN  名詞-普通名詞-サ変可能\n",
       "16       16   現状    現状  NOUN    名詞-普通名詞-一般\n",
       "20       20   GW    GW  NOUN    名詞-普通名詞-一般\n",
       "21       21   あけ    あけ  NOUN    名詞-普通名詞-一般\n",
       "24       24   面接    面接  NOUN  名詞-普通名詞-サ変可能\n",
       "31       31   出社    出社  NOUN  名詞-普通名詞-サ変可能\n",
       "32       32   停止    停止  NOUN  名詞-普通名詞-サ変可能"
      ],
      "text/html": "<div>\n<style scoped>\n    .dataframe tbody tr th:only-of-type {\n        vertical-align: middle;\n    }\n\n    .dataframe tbody tr th {\n        vertical-align: top;\n    }\n\n    .dataframe thead th {\n        text-align: right;\n    }\n</style>\n<table border=\"1\" class=\"dataframe\">\n  <thead>\n    <tr style=\"text-align: right;\">\n      <th></th>\n      <th>token_no</th>\n      <th>text</th>\n      <th>lemma</th>\n      <th>pos</th>\n      <th>tag</th>\n    </tr>\n  </thead>\n  <tbody>\n    <tr>\n      <th>6</th>\n      <td>6</td>\n      <td>納期</td>\n      <td>納期</td>\n      <td>NOUN</td>\n      <td>名詞-普通名詞-一般</td>\n    </tr>\n    <tr>\n      <th>10</th>\n      <td>10</td>\n      <td>仕事</td>\n      <td>仕事</td>\n      <td>NOUN</td>\n      <td>名詞-普通名詞-サ変可能</td>\n    </tr>\n    <tr>\n      <th>16</th>\n      <td>16</td>\n      <td>現状</td>\n      <td>現状</td>\n      <td>NOUN</td>\n      <td>名詞-普通名詞-一般</td>\n    </tr>\n    <tr>\n      <th>20</th>\n      <td>20</td>\n      <td>GW</td>\n      <td>GW</td>\n      <td>NOUN</td>\n      <td>名詞-普通名詞-一般</td>\n    </tr>\n    <tr>\n      <th>21</th>\n      <td>21</td>\n      <td>あけ</td>\n      <td>あけ</td>\n      <td>NOUN</td>\n      <td>名詞-普通名詞-一般</td>\n    </tr>\n    <tr>\n      <th>24</th>\n      <td>24</td>\n      <td>面接</td>\n      <td>面接</td>\n      <td>NOUN</td>\n      <td>名詞-普通名詞-サ変可能</td>\n    </tr>\n    <tr>\n      <th>31</th>\n      <td>31</td>\n      <td>出社</td>\n      <td>出社</td>\n      <td>NOUN</td>\n      <td>名詞-普通名詞-サ変可能</td>\n    </tr>\n    <tr>\n      <th>32</th>\n      <td>32</td>\n      <td>停止</td>\n      <td>停止</td>\n      <td>NOUN</td>\n      <td>名詞-普通名詞-サ変可能</td>\n    </tr>\n  </tbody>\n</table>\n</div>"
     },
     "metadata": {},
     "execution_count": 87
    }
   ],
   "source": [
    "df_result[(df_result.pos == 'NOUN')|(df_result.pos == 'PROPN')]"
   ]
  },
  {
   "cell_type": "code",
   "execution_count": 91,
   "metadata": {},
   "outputs": [
    {
     "output_type": "execute_result",
     "data": {
      "text/plain": [
       "   token_no  text lemma    pos           tag\n",
       "0         0    それ    それ   PRON           代名詞\n",
       "1         1     は     は    ADP        助詞-係助詞\n",
       "2         2   大丈夫   大丈夫    ADJ        形状詞-一般\n",
       "3         3    です    です    AUX           助動詞\n",
       "4         4     ね     ね   PART        助詞-終助詞\n",
       "5         5     。     。  PUNCT       補助記号-句点\n",
       "6         6    納期    納期   NOUN    名詞-普通名詞-一般\n",
       "7         7     が     が    ADP        助詞-格助詞\n",
       "8         8    ほぼ    ほぼ    ADV            副詞\n",
       "9         9    ない    ない    ADJ     形容詞-非自立可能\n",
       "10       10    仕事    仕事   NOUN  名詞-普通名詞-サ変可能\n",
       "11       11     な     だ    AUX           助動詞\n",
       "12       12     の     の  SCONJ       助詞-準体助詞\n",
       "13       13     で     だ    AUX           助動詞\n",
       "14       14     。     。  PUNCT       補助記号-句点\n",
       "15       15    ただ    ただ  CCONJ           接続詞\n",
       "16       16    現状    現状   NOUN    名詞-普通名詞-一般\n",
       "17       17     で     で    ADP        助詞-格助詞\n",
       "18       18  おそらく  おそらく    ADV            副詞\n",
       "19       19     、     、  PUNCT       補助記号-読点\n",
       "20       20    GW    GW   NOUN    名詞-普通名詞-一般\n",
       "21       21    あけ    あけ   NOUN    名詞-普通名詞-一般\n",
       "22       22    まで    まで    ADP        助詞-副助詞\n",
       "23       23     は     は    ADP        助詞-係助詞\n",
       "24       24    面接    面接   NOUN  名詞-普通名詞-サ変可能\n",
       "25       25    など    など    ADP        助詞-副助詞\n",
       "26       26   難しい   難しい    ADJ        形容詞-一般\n",
       "27       27     か     か    ADP        助詞-副助詞\n",
       "28       28     も     も    ADP        助詞-係助詞\n",
       "29       29    です    です    AUX           助動詞\n",
       "30       30     。     。  PUNCT       補助記号-句点\n",
       "31       31    出社    出社   NOUN  名詞-普通名詞-サ変可能\n",
       "32       32    停止    停止   NOUN  名詞-普通名詞-サ変可能\n",
       "33       33    まで    まで    ADP        助詞-副助詞\n",
       "34       34    いっ    いく   VERB      動詞-非自立可能\n",
       "35       35     て     て  SCONJ       助詞-接続助詞\n",
       "36       36    いる    いる    AUX      動詞-非自立可能\n",
       "37       37     の     の  SCONJ       助詞-準体助詞\n",
       "38       38     で     だ    AUX           助動詞"
      ],
      "text/html": "<div>\n<style scoped>\n    .dataframe tbody tr th:only-of-type {\n        vertical-align: middle;\n    }\n\n    .dataframe tbody tr th {\n        vertical-align: top;\n    }\n\n    .dataframe thead th {\n        text-align: right;\n    }\n</style>\n<table border=\"1\" class=\"dataframe\">\n  <thead>\n    <tr style=\"text-align: right;\">\n      <th></th>\n      <th>token_no</th>\n      <th>text</th>\n      <th>lemma</th>\n      <th>pos</th>\n      <th>tag</th>\n    </tr>\n  </thead>\n  <tbody>\n    <tr>\n      <th>0</th>\n      <td>0</td>\n      <td>それ</td>\n      <td>それ</td>\n      <td>PRON</td>\n      <td>代名詞</td>\n    </tr>\n    <tr>\n      <th>1</th>\n      <td>1</td>\n      <td>は</td>\n      <td>は</td>\n      <td>ADP</td>\n      <td>助詞-係助詞</td>\n    </tr>\n    <tr>\n      <th>2</th>\n      <td>2</td>\n      <td>大丈夫</td>\n      <td>大丈夫</td>\n      <td>ADJ</td>\n      <td>形状詞-一般</td>\n    </tr>\n    <tr>\n      <th>3</th>\n      <td>3</td>\n      <td>です</td>\n      <td>です</td>\n      <td>AUX</td>\n      <td>助動詞</td>\n    </tr>\n    <tr>\n      <th>4</th>\n      <td>4</td>\n      <td>ね</td>\n      <td>ね</td>\n      <td>PART</td>\n      <td>助詞-終助詞</td>\n    </tr>\n    <tr>\n      <th>5</th>\n      <td>5</td>\n      <td>。</td>\n      <td>。</td>\n      <td>PUNCT</td>\n      <td>補助記号-句点</td>\n    </tr>\n    <tr>\n      <th>6</th>\n      <td>6</td>\n      <td>納期</td>\n      <td>納期</td>\n      <td>NOUN</td>\n      <td>名詞-普通名詞-一般</td>\n    </tr>\n    <tr>\n      <th>7</th>\n      <td>7</td>\n      <td>が</td>\n      <td>が</td>\n      <td>ADP</td>\n      <td>助詞-格助詞</td>\n    </tr>\n    <tr>\n      <th>8</th>\n      <td>8</td>\n      <td>ほぼ</td>\n      <td>ほぼ</td>\n      <td>ADV</td>\n      <td>副詞</td>\n    </tr>\n    <tr>\n      <th>9</th>\n      <td>9</td>\n      <td>ない</td>\n      <td>ない</td>\n      <td>ADJ</td>\n      <td>形容詞-非自立可能</td>\n    </tr>\n    <tr>\n      <th>10</th>\n      <td>10</td>\n      <td>仕事</td>\n      <td>仕事</td>\n      <td>NOUN</td>\n      <td>名詞-普通名詞-サ変可能</td>\n    </tr>\n    <tr>\n      <th>11</th>\n      <td>11</td>\n      <td>な</td>\n      <td>だ</td>\n      <td>AUX</td>\n      <td>助動詞</td>\n    </tr>\n    <tr>\n      <th>12</th>\n      <td>12</td>\n      <td>の</td>\n      <td>の</td>\n      <td>SCONJ</td>\n      <td>助詞-準体助詞</td>\n    </tr>\n    <tr>\n      <th>13</th>\n      <td>13</td>\n      <td>で</td>\n      <td>だ</td>\n      <td>AUX</td>\n      <td>助動詞</td>\n    </tr>\n    <tr>\n      <th>14</th>\n      <td>14</td>\n      <td>。</td>\n      <td>。</td>\n      <td>PUNCT</td>\n      <td>補助記号-句点</td>\n    </tr>\n    <tr>\n      <th>15</th>\n      <td>15</td>\n      <td>ただ</td>\n      <td>ただ</td>\n      <td>CCONJ</td>\n      <td>接続詞</td>\n    </tr>\n    <tr>\n      <th>16</th>\n      <td>16</td>\n      <td>現状</td>\n      <td>現状</td>\n      <td>NOUN</td>\n      <td>名詞-普通名詞-一般</td>\n    </tr>\n    <tr>\n      <th>17</th>\n      <td>17</td>\n      <td>で</td>\n      <td>で</td>\n      <td>ADP</td>\n      <td>助詞-格助詞</td>\n    </tr>\n    <tr>\n      <th>18</th>\n      <td>18</td>\n      <td>おそらく</td>\n      <td>おそらく</td>\n      <td>ADV</td>\n      <td>副詞</td>\n    </tr>\n    <tr>\n      <th>19</th>\n      <td>19</td>\n      <td>、</td>\n      <td>、</td>\n      <td>PUNCT</td>\n      <td>補助記号-読点</td>\n    </tr>\n    <tr>\n      <th>20</th>\n      <td>20</td>\n      <td>GW</td>\n      <td>GW</td>\n      <td>NOUN</td>\n      <td>名詞-普通名詞-一般</td>\n    </tr>\n    <tr>\n      <th>21</th>\n      <td>21</td>\n      <td>あけ</td>\n      <td>あけ</td>\n      <td>NOUN</td>\n      <td>名詞-普通名詞-一般</td>\n    </tr>\n    <tr>\n      <th>22</th>\n      <td>22</td>\n      <td>まで</td>\n      <td>まで</td>\n      <td>ADP</td>\n      <td>助詞-副助詞</td>\n    </tr>\n    <tr>\n      <th>23</th>\n      <td>23</td>\n      <td>は</td>\n      <td>は</td>\n      <td>ADP</td>\n      <td>助詞-係助詞</td>\n    </tr>\n    <tr>\n      <th>24</th>\n      <td>24</td>\n      <td>面接</td>\n      <td>面接</td>\n      <td>NOUN</td>\n      <td>名詞-普通名詞-サ変可能</td>\n    </tr>\n    <tr>\n      <th>25</th>\n      <td>25</td>\n      <td>など</td>\n      <td>など</td>\n      <td>ADP</td>\n      <td>助詞-副助詞</td>\n    </tr>\n    <tr>\n      <th>26</th>\n      <td>26</td>\n      <td>難しい</td>\n      <td>難しい</td>\n      <td>ADJ</td>\n      <td>形容詞-一般</td>\n    </tr>\n    <tr>\n      <th>27</th>\n      <td>27</td>\n      <td>か</td>\n      <td>か</td>\n      <td>ADP</td>\n      <td>助詞-副助詞</td>\n    </tr>\n    <tr>\n      <th>28</th>\n      <td>28</td>\n      <td>も</td>\n      <td>も</td>\n      <td>ADP</td>\n      <td>助詞-係助詞</td>\n    </tr>\n    <tr>\n      <th>29</th>\n      <td>29</td>\n      <td>です</td>\n      <td>です</td>\n      <td>AUX</td>\n      <td>助動詞</td>\n    </tr>\n    <tr>\n      <th>30</th>\n      <td>30</td>\n      <td>。</td>\n      <td>。</td>\n      <td>PUNCT</td>\n      <td>補助記号-句点</td>\n    </tr>\n    <tr>\n      <th>31</th>\n      <td>31</td>\n      <td>出社</td>\n      <td>出社</td>\n      <td>NOUN</td>\n      <td>名詞-普通名詞-サ変可能</td>\n    </tr>\n    <tr>\n      <th>32</th>\n      <td>32</td>\n      <td>停止</td>\n      <td>停止</td>\n      <td>NOUN</td>\n      <td>名詞-普通名詞-サ変可能</td>\n    </tr>\n    <tr>\n      <th>33</th>\n      <td>33</td>\n      <td>まで</td>\n      <td>まで</td>\n      <td>ADP</td>\n      <td>助詞-副助詞</td>\n    </tr>\n    <tr>\n      <th>34</th>\n      <td>34</td>\n      <td>いっ</td>\n      <td>いく</td>\n      <td>VERB</td>\n      <td>動詞-非自立可能</td>\n    </tr>\n    <tr>\n      <th>35</th>\n      <td>35</td>\n      <td>て</td>\n      <td>て</td>\n      <td>SCONJ</td>\n      <td>助詞-接続助詞</td>\n    </tr>\n    <tr>\n      <th>36</th>\n      <td>36</td>\n      <td>いる</td>\n      <td>いる</td>\n      <td>AUX</td>\n      <td>動詞-非自立可能</td>\n    </tr>\n    <tr>\n      <th>37</th>\n      <td>37</td>\n      <td>の</td>\n      <td>の</td>\n      <td>SCONJ</td>\n      <td>助詞-準体助詞</td>\n    </tr>\n    <tr>\n      <th>38</th>\n      <td>38</td>\n      <td>で</td>\n      <td>だ</td>\n      <td>AUX</td>\n      <td>助動詞</td>\n    </tr>\n  </tbody>\n</table>\n</div>"
     },
     "metadata": {},
     "execution_count": 91
    }
   ],
   "source": [
    "df_result"
   ]
  },
  {
   "cell_type": "code",
   "execution_count": 94,
   "metadata": {
    "tags": []
   },
   "outputs": [
    {
     "output_type": "stream",
     "name": "stdout",
     "text": [
      "それ PRON [0. 0.]\nは ADP [-0.05035316 -0.15731327]\n大丈夫 ADJ [-0.18842514 -0.28764108]\nです AUX [ 0.04646556 -0.19055834]\nね PART [ 0.06215611 -0.26029193]\n。 PUNCT [ 0.12551211 -0.1708449 ]\n納期 NOUN [-0.08464946 -0.22177355]\nが ADP [-0.05846101 -0.1564513 ]\nほぼ ADV [-0.05758744 -0.16951226]\nない ADJ [-0.11644627 -0.2493358 ]\n仕事 NOUN [-0.11360788 -0.30140817]\nな AUX [-0.06564131 -0.2152221 ]\nの SCONJ [-0.08274004 -0.09103364]\nで AUX [-0.09195102 -0.10327693]\n。 PUNCT [ 0.12551211 -0.1708449 ]\nただ CCONJ [0. 0.]\n現状 NOUN [-0.01066545  0.06749678]\nで ADP [-0.09195102 -0.10327693]\nおそらく ADV [0. 0.]\n、 PUNCT [-0.01421653 -0.1027064 ]\nGW NOUN [ 0.10880449 -0.4294112 ]\nあけ NOUN [0. 0.]\nまで ADP [ 0.04464029 -0.17121328]\nは ADP [-0.05035316 -0.15731327]\n面接 NOUN [0.00587107 0.16308698]\nなど ADP [ 0.0114133  -0.03051528]\n難しい ADJ [-0.07116969 -0.09784228]\nか ADP [-0.10983511 -0.1689055 ]\nも ADP [ 0.03740092 -0.21522442]\nです AUX [ 0.04646556 -0.19055834]\n。 PUNCT [ 0.12551211 -0.1708449 ]\n出社 NOUN [-0.25950083 -0.20766014]\n停止 NOUN [ 0.0569618  -0.07632649]\nまで ADP [ 0.04464029 -0.17121328]\nいっ VERB [ 0.0718514  -0.04759765]\nて SCONJ [-0.06049706 -0.15483096]\nいる AUX [-0.19849487 -0.37518144]\nの SCONJ [-0.08274004 -0.09103364]\nで AUX [-0.09195102 -0.10327693]\n"
     ]
    }
   ],
   "source": [
    "for token in doc:\n",
    "    print(token.text, token.pos_, token.vector[:2]) "
   ]
  },
  {
   "cell_type": "code",
   "execution_count": 96,
   "metadata": {},
   "outputs": [
    {
     "output_type": "stream",
     "name": "stdout",
     "text": [
      "GW 33 35 Date\n"
     ]
    }
   ],
   "source": [
    "for ent in doc.ents:\n",
    "    print(ent.text, ent.start_char, ent.end_char, ent.label_)"
   ]
  },
  {
   "cell_type": "code",
   "execution_count": 97,
   "metadata": {},
   "outputs": [
    {
     "output_type": "execute_result",
     "data": {
      "text/plain": [
       "4"
      ]
     },
     "metadata": {},
     "execution_count": 97
    }
   ],
   "source": [
    "len(list(doc.sents))"
   ]
  },
  {
   "cell_type": "code",
   "execution_count": 98,
   "metadata": {},
   "outputs": [
    {
     "output_type": "display_data",
     "data": {
      "text/plain": "<IPython.core.display.HTML object>",
      "text/html": "<span class=\"tex2jax_ignore\"><div class=\"entities\" style=\"line-height: 2.5; direction: ltr\">それは大丈夫ですね。納期がほぼない仕事なので。ただ現状でおそらく、\n<mark class=\"entity\" style=\"background: #adff2f; padding: 0.45em 0.6em; margin: 0 0.25em; line-height: 1; border-radius: 0.35em;\">\n    GW\n    <span style=\"font-size: 0.8em; font-weight: bold; line-height: 1; border-radius: 0.35em; text-transform: uppercase; vertical-align: middle; margin-left: 0.5rem\">Date</span>\n</mark>\nあけまでは面接など難しいかもです。出社停止までいっているので</div></span>"
     },
     "metadata": {}
    }
   ],
   "source": [
    "#抽出したエンティティの種類に対して色を指定する\n",
    "colors = {\"COUNTRY\":\"#00cc00\", \"CITY\":\"#00cc00\", \"GPE_OTHER\":\"#00cc00\",\"OCCASION_OTHER\":\"#00cc00\",\n",
    "          \"LOCATION\":\"#00cc00\", \"LOCATION_OTHER\":\"#00cc00\",\"DOMESTIC_REGION\":\"#00cc00\",\"PROVINCE\":\"#00cc00\",\n",
    "          \"STATION\":\"#00cc00\", \"CONTINENTAL_REGION\":\"#00cc00\",\"THEATER\":\"#00cc00\",\n",
    "\n",
    "          \"TIME\":\"#adff2f\",\"DATE\":\"#adff2f\",\"DAY_OF_WEEK\":\"#adff2f\",\n",
    "          \"PERIOD_YEAR\":\"#adff2f\", \"PERIOD_MONTH\":\"#adff2f\", \"PERIOD_DAY\":\"#adff2f\",\n",
    "\n",
    "          \"FLORA\":\"#adff99\",\"FLORA_PART\":\"#adff99\",\n",
    "          \"DISH\":\"#ffeb99\",\"FOOD_OTHER\":\"#ffeb99\",\n",
    "\n",
    "          \"AGE\":\"#3385ff\",\"N_PERSON\":\"#3385ff\",\"N_EVENT\":\"#3385ff\",\"N_LOCATION_OTHER\":\"#3385ff\",\"RANK\":\"#3385ff\",\n",
    "          \"N_PRODUCT\":\"#3385ff\",\"\":\"#3385ff\",\"\":\"#3385ff\",\"\":\"#3385ff\",\"MEASUREMENT_OTHER\":\"#3385ff\",\"PERCENT\":\"#3385ff\",\n",
    "          \"N_ORGANIZATION\":\"#3385ff\", \"ORDINAL_NUMBER\":\"#3385ff\", \"N_FACILITY\":\"#3385ff\",\"SPEED\":\"#3385ff\",\n",
    "          \"PHONE_NUMBER\":\"#3385ff\",\n",
    "\n",
    "          \"MONEY\":\"#ffff00\",\n",
    "\n",
    "          \"COMPANY\":\"#99c2ff\", \"SCHOOL\":\"#99c2ff\", \"INTERNATIONAL_ORGANIZATION\":\"#99c2ff\",\n",
    "          \"GOE_OTHER\":\"#99c2ff\", \"SHOW_ORGANIZATION\":\"#99c2ff\",\"CORPORATION_OTHER\":\"#99c2ff\",\n",
    "\n",
    "          \"CLOTHING\":\"#ff66a3\",\n",
    "          \"PRODUCT_OTHER\":\"#ff66a3\",\n",
    "\n",
    "          \"PERSON\":\"#c266ff\",\n",
    "          \"POSITION_VOCATION\":\"#ebccff\",\n",
    "\n",
    "          \"MUSIC\":\"#ff7f50\", \"MOVIE\":\"#ff7f50\", \"GAME\":\"#ff7f50\", \"SPORT\":\"#ff7f50\", \"BOOK\":\"#ff7f50\", \n",
    "          \"BROADCAST_PROGRAM\":\"#ff7f50\", \n",
    "\n",
    "          \"ANIMAL_DISEASE\":\"#cd5c5c\"\n",
    "          }\n",
    "\n",
    "options = {\"colors\": colors}\n",
    "displacy.render(doc, style=\"ent\", options=options, jupyter=True)"
   ]
  },
  {
   "source": [
    "# Named-entity recognition"
   ],
   "cell_type": "markdown",
   "metadata": {}
  },
  {
   "cell_type": "code",
   "execution_count": 916,
   "metadata": {},
   "outputs": [],
   "source": [
    "df_tag = pd.read_csv('../csv/annotation_master.csv')"
   ]
  },
  {
   "cell_type": "code",
   "execution_count": 917,
   "metadata": {},
   "outputs": [
    {
     "output_type": "execute_result",
     "data": {
      "text/plain": [
       "                keyword          property  \\\n",
       "0    Amazon Web Service  AmazonWebService   \n",
       "1                   AWS  AmazonWebService   \n",
       "2                   API               API   \n",
       "3                    AR                AR   \n",
       "4                AutoML            AutoML   \n",
       "..                  ...               ...   \n",
       "181                キャリア              キャリア   \n",
       "182             ポートフォリオ           ポートフォリオ   \n",
       "183                  DB            データベース   \n",
       "184              データベース            データベース   \n",
       "185                 コンペ          コンペティション   \n",
       "\n",
       "                                                source  \n",
       "0    https://www.keywalker.co.jp/blog/bigdata-terms...  \n",
       "1                                                  NaN  \n",
       "2                                                  NaN  \n",
       "3                                                  NaN  \n",
       "4                                                  NaN  \n",
       "..                                                 ...  \n",
       "181                                                NaN  \n",
       "182                                                NaN  \n",
       "183                                                NaN  \n",
       "184                                                NaN  \n",
       "185                                                NaN  \n",
       "\n",
       "[186 rows x 3 columns]"
      ],
      "text/html": "<div>\n<style scoped>\n    .dataframe tbody tr th:only-of-type {\n        vertical-align: middle;\n    }\n\n    .dataframe tbody tr th {\n        vertical-align: top;\n    }\n\n    .dataframe thead th {\n        text-align: right;\n    }\n</style>\n<table border=\"1\" class=\"dataframe\">\n  <thead>\n    <tr style=\"text-align: right;\">\n      <th></th>\n      <th>keyword</th>\n      <th>property</th>\n      <th>source</th>\n    </tr>\n  </thead>\n  <tbody>\n    <tr>\n      <th>0</th>\n      <td>Amazon Web Service</td>\n      <td>AmazonWebService</td>\n      <td>https://www.keywalker.co.jp/blog/bigdata-terms...</td>\n    </tr>\n    <tr>\n      <th>1</th>\n      <td>AWS</td>\n      <td>AmazonWebService</td>\n      <td>NaN</td>\n    </tr>\n    <tr>\n      <th>2</th>\n      <td>API</td>\n      <td>API</td>\n      <td>NaN</td>\n    </tr>\n    <tr>\n      <th>3</th>\n      <td>AR</td>\n      <td>AR</td>\n      <td>NaN</td>\n    </tr>\n    <tr>\n      <th>4</th>\n      <td>AutoML</td>\n      <td>AutoML</td>\n      <td>NaN</td>\n    </tr>\n    <tr>\n      <th>...</th>\n      <td>...</td>\n      <td>...</td>\n      <td>...</td>\n    </tr>\n    <tr>\n      <th>181</th>\n      <td>キャリア</td>\n      <td>キャリア</td>\n      <td>NaN</td>\n    </tr>\n    <tr>\n      <th>182</th>\n      <td>ポートフォリオ</td>\n      <td>ポートフォリオ</td>\n      <td>NaN</td>\n    </tr>\n    <tr>\n      <th>183</th>\n      <td>DB</td>\n      <td>データベース</td>\n      <td>NaN</td>\n    </tr>\n    <tr>\n      <th>184</th>\n      <td>データベース</td>\n      <td>データベース</td>\n      <td>NaN</td>\n    </tr>\n    <tr>\n      <th>185</th>\n      <td>コンペ</td>\n      <td>コンペティション</td>\n      <td>NaN</td>\n    </tr>\n  </tbody>\n</table>\n<p>186 rows × 3 columns</p>\n</div>"
     },
     "metadata": {},
     "execution_count": 917
    }
   ],
   "source": [
    "df_tag"
   ]
  },
  {
   "cell_type": "code",
   "execution_count": 918,
   "metadata": {},
   "outputs": [],
   "source": [
    "patterns = [{\"label\": \"Tech\", \"pattern\": x}for x in df_tag.property.unique()]"
   ]
  },
  {
   "cell_type": "code",
   "execution_count": 919,
   "metadata": {},
   "outputs": [],
   "source": [
    "rpls_dict = dict(zip(df_tag.keyword, df_tag.property))"
   ]
  },
  {
   "cell_type": "code",
   "execution_count": 920,
   "metadata": {},
   "outputs": [],
   "source": [
    "# ルールの追加\n",
    "from spacy.pipeline import EntityRuler\n",
    "nlp = spacy.load('ja_ginza')\n",
    "ruler = EntityRuler(nlp, overwrite_ents = True)\n",
    "ruler.add_patterns(patterns)\n",
    "nlp.add_pipe(ruler)"
   ]
  },
  {
   "cell_type": "code",
   "execution_count": 921,
   "metadata": {},
   "outputs": [],
   "source": [
    "def custom_make_translation(text, translation):\n",
    "    regex = re.compile('|'.join(map(re.escape, translation)))\n",
    "    return regex.sub(lambda match: translation[match.group(0)], text)"
   ]
  },
  {
   "cell_type": "code",
   "execution_count": 1051,
   "metadata": {},
   "outputs": [],
   "source": [
    "# txt = '\\n'.join(df.talk_text[0:10].tolist())\n",
    "rd_idx = rd.randint(len(df.talk_text))\n",
    "txt = df.talk_text.tolist()[rd_idx]\n"
   ]
  },
  {
   "cell_type": "code",
   "execution_count": 1052,
   "metadata": {},
   "outputs": [],
   "source": [
    "retxt = custom_make_translation(txt, rpls_dict)"
   ]
  },
  {
   "cell_type": "code",
   "execution_count": 1053,
   "metadata": {},
   "outputs": [],
   "source": [
    "# sub 'url link'\n",
    "retxt = re.sub(r'<http.+?>', '', retxt)\n",
    "# sub 'mention'\n",
    "retxt = re.sub(r'<@\\w+?>', '', retxt)\n",
    "# sub 'reaction'\n",
    "retxt = re.sub(r':\\S+?:', '', retxt)\n",
    "# sub 'mention'\n",
    "retxt = re.sub(r'<#\\S+?>', '', retxt)\n",
    "# sub 'html key words'\n",
    "retxt = re.sub(r'(&).+?\\w(;)', '', retxt)\n",
    "#sub spaces\n",
    "retxt = re.sub(r'\\s', '', retxt)\n",
    "\n",
    "if retxt!='':\n",
    "    doc = nlp(retxt)\n",
    "    ginza.set_split_mode(nlp, \"C\")"
   ]
  },
  {
   "cell_type": "code",
   "execution_count": 1054,
   "metadata": {},
   "outputs": [
    {
     "output_type": "execute_result",
     "data": {
      "text/plain": [
       "'goなどのサーバー開発、Dockerやkubernetesなどのコンテナやクラウドは得意としてすごい！めちゃくちゃ需要ある分野じゃないですか？？'"
      ]
     },
     "metadata": {},
     "execution_count": 1054
    }
   ],
   "source": [
    "retxt"
   ]
  },
  {
   "cell_type": "code",
   "execution_count": 1055,
   "metadata": {},
   "outputs": [
    {
     "output_type": "execute_result",
     "data": {
      "text/plain": [
       "     text label start_pos end_pos\n",
       "0  Docker  Tech        12      18\n",
       "1    クラウド  Tech        37      41"
      ],
      "text/html": "<div>\n<style scoped>\n    .dataframe tbody tr th:only-of-type {\n        vertical-align: middle;\n    }\n\n    .dataframe tbody tr th {\n        vertical-align: top;\n    }\n\n    .dataframe thead th {\n        text-align: right;\n    }\n</style>\n<table border=\"1\" class=\"dataframe\">\n  <thead>\n    <tr style=\"text-align: right;\">\n      <th></th>\n      <th>text</th>\n      <th>label</th>\n      <th>start_pos</th>\n      <th>end_pos</th>\n    </tr>\n  </thead>\n  <tbody>\n    <tr>\n      <th>0</th>\n      <td>Docker</td>\n      <td>Tech</td>\n      <td>12</td>\n      <td>18</td>\n    </tr>\n    <tr>\n      <th>1</th>\n      <td>クラウド</td>\n      <td>Tech</td>\n      <td>37</td>\n      <td>41</td>\n    </tr>\n  </tbody>\n</table>\n</div>"
     },
     "metadata": {},
     "execution_count": 1055
    }
   ],
   "source": [
    "df_ent_result = pd.DataFrame([[ent.text, ent.label_, str(ent.start_char), str(ent.end_char)] for ent in doc.ents],\n",
    "                          columns= ['text', 'label', 'start_pos', 'end_pos'])\n",
    "df_ent_result"
   ]
  },
  {
   "cell_type": "code",
   "execution_count": 1035,
   "metadata": {},
   "outputs": [
    {
     "output_type": "execute_result",
     "data": {
      "text/plain": [
       "   token_no   text  lemma    pos            tag\n",
       "0         0   Katz   katz  PROPN  名詞-固有名詞-人名-一般\n",
       "1         1     さん     さん   NOUN     接尾辞-名詞的-一般\n",
       "4         4      お      お   NOUN            接頭辞\n",
       "10       10    データ    データ   NOUN     名詞-普通名詞-一般\n",
       "11       11  アナリスト  アナリスト   NOUN     名詞-普通名詞-一般\n",
       "18       18   ジュニア   ジュニア   NOUN     名詞-普通名詞-一般\n",
       "19       19    レベル    レベル   NOUN     名詞-普通名詞-一般\n",
       "21       21      方      方   NOUN     名詞-普通名詞-一般\n",
       "30       30      お      お   NOUN            接頭辞"
      ],
      "text/html": "<div>\n<style scoped>\n    .dataframe tbody tr th:only-of-type {\n        vertical-align: middle;\n    }\n\n    .dataframe tbody tr th {\n        vertical-align: top;\n    }\n\n    .dataframe thead th {\n        text-align: right;\n    }\n</style>\n<table border=\"1\" class=\"dataframe\">\n  <thead>\n    <tr style=\"text-align: right;\">\n      <th></th>\n      <th>token_no</th>\n      <th>text</th>\n      <th>lemma</th>\n      <th>pos</th>\n      <th>tag</th>\n    </tr>\n  </thead>\n  <tbody>\n    <tr>\n      <th>0</th>\n      <td>0</td>\n      <td>Katz</td>\n      <td>katz</td>\n      <td>PROPN</td>\n      <td>名詞-固有名詞-人名-一般</td>\n    </tr>\n    <tr>\n      <th>1</th>\n      <td>1</td>\n      <td>さん</td>\n      <td>さん</td>\n      <td>NOUN</td>\n      <td>接尾辞-名詞的-一般</td>\n    </tr>\n    <tr>\n      <th>4</th>\n      <td>4</td>\n      <td>お</td>\n      <td>お</td>\n      <td>NOUN</td>\n      <td>接頭辞</td>\n    </tr>\n    <tr>\n      <th>10</th>\n      <td>10</td>\n      <td>データ</td>\n      <td>データ</td>\n      <td>NOUN</td>\n      <td>名詞-普通名詞-一般</td>\n    </tr>\n    <tr>\n      <th>11</th>\n      <td>11</td>\n      <td>アナリスト</td>\n      <td>アナリスト</td>\n      <td>NOUN</td>\n      <td>名詞-普通名詞-一般</td>\n    </tr>\n    <tr>\n      <th>18</th>\n      <td>18</td>\n      <td>ジュニア</td>\n      <td>ジュニア</td>\n      <td>NOUN</td>\n      <td>名詞-普通名詞-一般</td>\n    </tr>\n    <tr>\n      <th>19</th>\n      <td>19</td>\n      <td>レベル</td>\n      <td>レベル</td>\n      <td>NOUN</td>\n      <td>名詞-普通名詞-一般</td>\n    </tr>\n    <tr>\n      <th>21</th>\n      <td>21</td>\n      <td>方</td>\n      <td>方</td>\n      <td>NOUN</td>\n      <td>名詞-普通名詞-一般</td>\n    </tr>\n    <tr>\n      <th>30</th>\n      <td>30</td>\n      <td>お</td>\n      <td>お</td>\n      <td>NOUN</td>\n      <td>接頭辞</td>\n    </tr>\n  </tbody>\n</table>\n</div>"
     },
     "metadata": {},
     "execution_count": 1035
    }
   ],
   "source": [
    "result_list = []\n",
    "for sent in doc.sents:\n",
    "    result_list = result_list + [[str(token.i), token.text, token.lemma_, token.pos_, token.tag_] for token in sent]\n",
    "df_result = pd.DataFrame(result_list, columns = 'token_no text lemma pos tag'.split())\n",
    "df_result[(df_result.pos == 'NOUN')|(df_result.pos == 'PROPN')]"
   ]
  },
  {
   "cell_type": "code",
   "execution_count": 928,
   "metadata": {},
   "outputs": [
    {
     "output_type": "execute_result",
     "data": {
      "text/plain": [
       "'massoさん、\\nおお、物性ですか！同じ物理屋同士、よろしくお願いいたします！！'"
      ]
     },
     "metadata": {},
     "execution_count": 928
    }
   ],
   "source": [
    "txt"
   ]
  },
  {
   "cell_type": "code",
   "execution_count": 929,
   "metadata": {},
   "outputs": [
    {
     "output_type": "execute_result",
     "data": {
      "text/plain": [
       "<generator at 0x78387577cdc0>"
      ]
     },
     "metadata": {},
     "execution_count": 929
    }
   ],
   "source": [
    "doc.sents"
   ]
  },
  {
   "cell_type": "code",
   "execution_count": 371,
   "metadata": {},
   "outputs": [
    {
     "output_type": "execute_result",
     "data": {
      "text/plain": [
       "       channel_id  channel_name  reply_num      user_id  \\\n",
       "8     C014QPLTKKN   03-02-質問-学習          8    UMTMKBB1Q   \n",
       "32    C014QPLTKKN   03-02-質問-学習          7    URG3NEHGW   \n",
       "38    C014BS723RC  03-03-質問-その他          9    UJRAL005U   \n",
       "42    C014BS723RC  03-03-質問-その他          0  U01DJS8N17T   \n",
       "72      CJCNV9LG2       03-1-質問          1    UJRAL005U   \n",
       "...           ...           ...        ...          ...   \n",
       "4027  C014BS723RC   03-3-質問-その他          6    UQ8NVHJFJ   \n",
       "4031  C014BS723RC   03-3-質問-その他          3  U015VLYAMBK   \n",
       "4038  C014BS723RC   03-3-質問-その他          6    ULM6FBU11   \n",
       "4040  C014BS723RC   03-3-質問-その他          0    URLV35G8M   \n",
       "4047  C014BS723RC   03-3-質問-その他          1    URDDX224S   \n",
       "\n",
       "                       user_name  reply_user_is_in_current  \\\n",
       "8                         maimai                      True   \n",
       "32                          あべこう                      True   \n",
       "38                          村上智之                      True   \n",
       "42             Hiroto 現職経理のDS学習生                      True   \n",
       "72     村上智之　ｷﾞﾙﾄﾞ代表　筋ﾄﾚで学ぶﾃﾞｰﾀ分析                      True   \n",
       "...                          ...                       ...   \n",
       "4027                       Chobi                      True   \n",
       "4031  ﾔﾏﾓﾄ　物理系ﾃﾞｰﾀｻｲｴﾝﾃｨｽﾄ(駆け出し)                      True   \n",
       "4038                      tomo.h                      True   \n",
       "4040                      shinji                      True   \n",
       "4047                       masso                      True   \n",
       "\n",
       "                                   talk_id  \\\n",
       "8     0c857664-c9bb-4582-bb7b-eb41ddfcb5af   \n",
       "32    1dcd4164-ef0b-4b70-8022-c2bc72569043   \n",
       "38    62185e11-2533-4dac-b0fc-2c1d26386766   \n",
       "42    01920a55-c94c-4c6a-8e1f-b07558bead01   \n",
       "72    403f248f-9e10-4aa5-9bba-54690a056ced   \n",
       "...                                    ...   \n",
       "4027  839489ed-2336-458f-a5d7-50e9985c8ef5   \n",
       "4031  afbce1fd-a49e-4e05-8202-78085b212550   \n",
       "4038  212676b2-615f-4cd3-83d2-95d891f4487f   \n",
       "4040  85ddd0a0-7a97-40db-a9e3-f705dcb503ef   \n",
       "4047  de44b6be-2301-462e-bbaf-aa8a794ed0c5   \n",
       "\n",
       "                                              talk_text  \\\n",
       "8     <@UMBPQ87PB> これ私も求めていたアプリで大変感謝\\n丁度英語を教えてる友人がいた...   \n",
       "32    <@U010Y77JA2W> \\nわかりみたくさんもらえて嬉しいです！w\\n私もそんな風に信...   \n",
       "38    <@U016FA4NNPP> \\n返信漏れてました。個人事業でやってる感じっぽいので、話聞い...   \n",
       "42    ギルドのみなさんこんばんは。\\n最近入会させていただいた<@U01DJS8N17T> と申し...   \n",
       "72    <@UL70KNF4P> \\n直近使ってるものだと、\\n\\n■ 言語\\n・R\\n・pytho...   \n",
       "...                                                 ...   \n",
       "4027  <@UKT3G90U8>\\n実際に使用されているとのこと、貴重なレビューありがとうございます...   \n",
       "4031  <@UKT3G90U8> <@UJRAL005U>\\nご回答ありがとうございます。\\n規模的...   \n",
       "4038  <@URDDX224S> さん\\nありがとうございます。私も最初に教え込むのは、伝わりにくい...   \n",
       "4040  <@UQ8NVHJFJ> さん\\n名前の横の犬マークに　時系列＋GAN頑張るゾイ　って出して...   \n",
       "4047          <@UN0HCK74M>\\n吉村さんなら何かお答えがあるのでは、と期待していますｗ   \n",
       "\n",
       "                              talk_ts                        thread_ts  \\\n",
       "8    2020-10-22 08:39:45.043100+00:00 2020-09-13 15:19:10.078800+00:00   \n",
       "32   2020-10-23 12:06:43.061700+00:00 2020-10-23 00:59:21.050100+00:00   \n",
       "38   2020-10-23 11:24:14.030100+00:00 2020-10-14 02:27:30.011900+00:00   \n",
       "42   2020-10-25 13:44:11.052000+00:00 2020-10-25 13:44:11.052000+00:00   \n",
       "72   2019-07-06 13:24:36.011700+00:00 2019-07-06 13:20:06.006700+00:00   \n",
       "...                               ...                              ...   \n",
       "4027 2020-09-11 05:03:41.052100+00:00 2020-09-11 01:25:19.048800+00:00   \n",
       "4031 2020-09-15 09:42:39.059700+00:00 2020-09-14 22:40:42.052500+00:00   \n",
       "4038 2020-09-22 04:16:58.005700+00:00 2020-09-20 13:50:12.001300+00:00   \n",
       "4040 2020-09-27 03:54:28.000300+00:00 2020-09-27 03:54:28.000300+00:00   \n",
       "4047 2020-10-14 02:57:54.012000+00:00 2020-10-14 02:27:30.011900+00:00   \n",
       "\n",
       "     target_date  \n",
       "8     2020-10-23  \n",
       "32    2020-10-24  \n",
       "38    2020-10-24  \n",
       "42    2020-10-26  \n",
       "72    2019-07-07  \n",
       "...          ...  \n",
       "4027  2020-09-12  \n",
       "4031  2020-09-16  \n",
       "4038  2020-09-23  \n",
       "4040  2020-09-28  \n",
       "4047  2020-10-15  \n",
       "\n",
       "[617 rows x 11 columns]"
      ],
      "text/html": "<div>\n<style scoped>\n    .dataframe tbody tr th:only-of-type {\n        vertical-align: middle;\n    }\n\n    .dataframe tbody tr th {\n        vertical-align: top;\n    }\n\n    .dataframe thead th {\n        text-align: right;\n    }\n</style>\n<table border=\"1\" class=\"dataframe\">\n  <thead>\n    <tr style=\"text-align: right;\">\n      <th></th>\n      <th>channel_id</th>\n      <th>channel_name</th>\n      <th>reply_num</th>\n      <th>user_id</th>\n      <th>user_name</th>\n      <th>reply_user_is_in_current</th>\n      <th>talk_id</th>\n      <th>talk_text</th>\n      <th>talk_ts</th>\n      <th>thread_ts</th>\n      <th>target_date</th>\n    </tr>\n  </thead>\n  <tbody>\n    <tr>\n      <th>8</th>\n      <td>C014QPLTKKN</td>\n      <td>03-02-質問-学習</td>\n      <td>8</td>\n      <td>UMTMKBB1Q</td>\n      <td>maimai</td>\n      <td>True</td>\n      <td>0c857664-c9bb-4582-bb7b-eb41ddfcb5af</td>\n      <td>&lt;@UMBPQ87PB&gt; これ私も求めていたアプリで大変感謝\\n丁度英語を教えてる友人がいた...</td>\n      <td>2020-10-22 08:39:45.043100+00:00</td>\n      <td>2020-09-13 15:19:10.078800+00:00</td>\n      <td>2020-10-23</td>\n    </tr>\n    <tr>\n      <th>32</th>\n      <td>C014QPLTKKN</td>\n      <td>03-02-質問-学習</td>\n      <td>7</td>\n      <td>URG3NEHGW</td>\n      <td>あべこう</td>\n      <td>True</td>\n      <td>1dcd4164-ef0b-4b70-8022-c2bc72569043</td>\n      <td>&lt;@U010Y77JA2W&gt; \\nわかりみたくさんもらえて嬉しいです！w\\n私もそんな風に信...</td>\n      <td>2020-10-23 12:06:43.061700+00:00</td>\n      <td>2020-10-23 00:59:21.050100+00:00</td>\n      <td>2020-10-24</td>\n    </tr>\n    <tr>\n      <th>38</th>\n      <td>C014BS723RC</td>\n      <td>03-03-質問-その他</td>\n      <td>9</td>\n      <td>UJRAL005U</td>\n      <td>村上智之</td>\n      <td>True</td>\n      <td>62185e11-2533-4dac-b0fc-2c1d26386766</td>\n      <td>&lt;@U016FA4NNPP&gt; \\n返信漏れてました。個人事業でやってる感じっぽいので、話聞い...</td>\n      <td>2020-10-23 11:24:14.030100+00:00</td>\n      <td>2020-10-14 02:27:30.011900+00:00</td>\n      <td>2020-10-24</td>\n    </tr>\n    <tr>\n      <th>42</th>\n      <td>C014BS723RC</td>\n      <td>03-03-質問-その他</td>\n      <td>0</td>\n      <td>U01DJS8N17T</td>\n      <td>Hiroto 現職経理のDS学習生</td>\n      <td>True</td>\n      <td>01920a55-c94c-4c6a-8e1f-b07558bead01</td>\n      <td>ギルドのみなさんこんばんは。\\n最近入会させていただいた&lt;@U01DJS8N17T&gt; と申し...</td>\n      <td>2020-10-25 13:44:11.052000+00:00</td>\n      <td>2020-10-25 13:44:11.052000+00:00</td>\n      <td>2020-10-26</td>\n    </tr>\n    <tr>\n      <th>72</th>\n      <td>CJCNV9LG2</td>\n      <td>03-1-質問</td>\n      <td>1</td>\n      <td>UJRAL005U</td>\n      <td>村上智之　ｷﾞﾙﾄﾞ代表　筋ﾄﾚで学ぶﾃﾞｰﾀ分析</td>\n      <td>True</td>\n      <td>403f248f-9e10-4aa5-9bba-54690a056ced</td>\n      <td>&lt;@UL70KNF4P&gt; \\n直近使ってるものだと、\\n\\n■ 言語\\n・R\\n・pytho...</td>\n      <td>2019-07-06 13:24:36.011700+00:00</td>\n      <td>2019-07-06 13:20:06.006700+00:00</td>\n      <td>2019-07-07</td>\n    </tr>\n    <tr>\n      <th>...</th>\n      <td>...</td>\n      <td>...</td>\n      <td>...</td>\n      <td>...</td>\n      <td>...</td>\n      <td>...</td>\n      <td>...</td>\n      <td>...</td>\n      <td>...</td>\n      <td>...</td>\n      <td>...</td>\n    </tr>\n    <tr>\n      <th>4027</th>\n      <td>C014BS723RC</td>\n      <td>03-3-質問-その他</td>\n      <td>6</td>\n      <td>UQ8NVHJFJ</td>\n      <td>Chobi</td>\n      <td>True</td>\n      <td>839489ed-2336-458f-a5d7-50e9985c8ef5</td>\n      <td>&lt;@UKT3G90U8&gt;\\n実際に使用されているとのこと、貴重なレビューありがとうございます...</td>\n      <td>2020-09-11 05:03:41.052100+00:00</td>\n      <td>2020-09-11 01:25:19.048800+00:00</td>\n      <td>2020-09-12</td>\n    </tr>\n    <tr>\n      <th>4031</th>\n      <td>C014BS723RC</td>\n      <td>03-3-質問-その他</td>\n      <td>3</td>\n      <td>U015VLYAMBK</td>\n      <td>ﾔﾏﾓﾄ　物理系ﾃﾞｰﾀｻｲｴﾝﾃｨｽﾄ(駆け出し)</td>\n      <td>True</td>\n      <td>afbce1fd-a49e-4e05-8202-78085b212550</td>\n      <td>&lt;@UKT3G90U8&gt; &lt;@UJRAL005U&gt;\\nご回答ありがとうございます。\\n規模的...</td>\n      <td>2020-09-15 09:42:39.059700+00:00</td>\n      <td>2020-09-14 22:40:42.052500+00:00</td>\n      <td>2020-09-16</td>\n    </tr>\n    <tr>\n      <th>4038</th>\n      <td>C014BS723RC</td>\n      <td>03-3-質問-その他</td>\n      <td>6</td>\n      <td>ULM6FBU11</td>\n      <td>tomo.h</td>\n      <td>True</td>\n      <td>212676b2-615f-4cd3-83d2-95d891f4487f</td>\n      <td>&lt;@URDDX224S&gt; さん\\nありがとうございます。私も最初に教え込むのは、伝わりにくい...</td>\n      <td>2020-09-22 04:16:58.005700+00:00</td>\n      <td>2020-09-20 13:50:12.001300+00:00</td>\n      <td>2020-09-23</td>\n    </tr>\n    <tr>\n      <th>4040</th>\n      <td>C014BS723RC</td>\n      <td>03-3-質問-その他</td>\n      <td>0</td>\n      <td>URLV35G8M</td>\n      <td>shinji</td>\n      <td>True</td>\n      <td>85ddd0a0-7a97-40db-a9e3-f705dcb503ef</td>\n      <td>&lt;@UQ8NVHJFJ&gt; さん\\n名前の横の犬マークに　時系列＋GAN頑張るゾイ　って出して...</td>\n      <td>2020-09-27 03:54:28.000300+00:00</td>\n      <td>2020-09-27 03:54:28.000300+00:00</td>\n      <td>2020-09-28</td>\n    </tr>\n    <tr>\n      <th>4047</th>\n      <td>C014BS723RC</td>\n      <td>03-3-質問-その他</td>\n      <td>1</td>\n      <td>URDDX224S</td>\n      <td>masso</td>\n      <td>True</td>\n      <td>de44b6be-2301-462e-bbaf-aa8a794ed0c5</td>\n      <td>&lt;@UN0HCK74M&gt;\\n吉村さんなら何かお答えがあるのでは、と期待していますｗ</td>\n      <td>2020-10-14 02:57:54.012000+00:00</td>\n      <td>2020-10-14 02:27:30.011900+00:00</td>\n      <td>2020-10-15</td>\n    </tr>\n  </tbody>\n</table>\n<p>617 rows × 11 columns</p>\n</div>"
     },
     "metadata": {},
     "execution_count": 371
    }
   ],
   "source": [
    "df[df.talk_text.str.contains('<@')]"
   ]
  },
  {
   "cell_type": "code",
   "execution_count": null,
   "metadata": {},
   "outputs": [],
   "source": []
  }
 ],
 "metadata": {
  "kernelspec": {
   "name": "python3",
   "display_name": "Python 3",
   "language": "python"
  }
 },
 "nbformat": 4,
 "nbformat_minor": 4
}